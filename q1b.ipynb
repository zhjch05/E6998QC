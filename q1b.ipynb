{
 "cells": [
  {
   "cell_type": "code",
   "execution_count": 11,
   "metadata": {},
   "outputs": [],
   "source": [
    "# Q1 part b)\n",
    "# Jincheng Zhang, jz2918\n",
    "# tuts source: https://nbviewer.jupyter.org/github/QISKit/qiskit-tutorial/blob/stable/2_quantum_information/quantum_teleportation.ipynb\n",
    "# helper module python code created by me: drawcircuit, Qconfig\n",
    "# drawcircuit code source: https://nbviewer.jupyter.org/github/QISKit/qiskit-tutorial/blob/stable/1_introduction/getting_started.ipynb"
   ]
  },
  {
   "cell_type": "code",
   "execution_count": 35,
   "metadata": {},
   "outputs": [],
   "source": [
    "%matplotlib inline"
   ]
  },
  {
   "cell_type": "code",
   "execution_count": 44,
   "metadata": {},
   "outputs": [],
   "source": [
    "import sys\n",
    "\n",
    "import numpy as np\n",
    "\n",
    "# Importing QISKit\n",
    "from qiskit import QuantumCircuit, QuantumProgram\n",
    "import Qconfig\n",
    "\n",
    "# Import basic plotting tools\n",
    "from qiskit.tools.visualization import plot_histogram\n",
    "\n",
    "#custom\n",
    "import drawcircuit as dc\n",
    "\n",
    "import matplotlib.pyplot as plt\n",
    "\n",
    "# Quantum program setup \n",
    "Q_program = QuantumProgram()\n",
    "Q_program.set_api(Qconfig.APItoken, Qconfig.config['url']) # set the APIToken and API url"
   ]
  },
  {
   "cell_type": "code",
   "execution_count": 63,
   "metadata": {},
   "outputs": [],
   "source": [
    "def create_teleport(theta=0.3, phi=0.2, lam=0.1): ## u3 params\n",
    "    # Creating registers\n",
    "    q = Q_program.create_quantum_register('q', 3)\n",
    "    c0 = Q_program.create_classical_register('c0', 1)\n",
    "    c1 = Q_program.create_classical_register('c1', 1)\n",
    "    c2 = Q_program.create_classical_register('c2', 1)\n",
    "\n",
    "    # Quantum circuit to make the shared entangled state \n",
    "    teleport = Q_program.create_circuit('teleport', [q], [c0,c1,c2])\n",
    "    teleport.h(q[1])\n",
    "    teleport.cx(q[1], q[2])\n",
    "    \n",
    "    teleport.u3(theta, phi, lam, q[0])\n",
    "    \n",
    "    teleport.cx(q[0], q[1])\n",
    "    teleport.h(q[0])\n",
    "    teleport.barrier()\n",
    "    \n",
    "    teleport.measure(q[0], c0[0])\n",
    "    teleport.measure(q[1], c1[0])\n",
    "    teleport.z(q[2]).c_if(c0, 1)\n",
    "    teleport.x(q[2]).c_if(c1, 1)\n",
    "    teleport.measure(q[2], c2[0])\n",
    "    \n",
    "    circuits = ['teleport']\n",
    "    #print(Q_program.get_qasms(circuits)[0])\n",
    "    # backend = 'ibmqx2' # the backend to run on\n",
    "    backend = 'local_qasm_simulator' \n",
    "    shots = 1024 # the number of shots in the experiment\n",
    "    circuits = ['teleport']\n",
    "    result = Q_program.execute(circuits, backend=backend, shots=shots, max_credits=3, wait=10, timeout=240)\n",
    "    # Bob's Measurement\n",
    "    data = result.get_counts('teleport')\n",
    "    bob = {}\n",
    "    bob['0'] = data['0 0 0'] + data['0 1 0'] +  data['0 0 1'] + data['0 1 1']\n",
    "    return bob['0']/1024"
   ]
  },
  {
   "cell_type": "code",
   "execution_count": 64,
   "metadata": {},
   "outputs": [
    {
     "data": {
      "text/plain": [
       "0.767578125"
      ]
     },
     "execution_count": 64,
     "metadata": {},
     "output_type": "execute_result"
    }
   ],
   "source": [
    "create_teleport(1,0,0) #test"
   ]
  },
  {
   "cell_type": "code",
   "execution_count": 70,
   "metadata": {},
   "outputs": [
    {
     "data": {
      "image/png": "[encoded data removed]",
      "text/plain": [
       "<matplotlib.figure.Figure at 0x7f7fc81a3240>"
      ]
     },
     "metadata": {},
     "output_type": "display_data"
    }
   ],
   "source": [
    "r_theta = []\n",
    "for i in range(0,11):\n",
    "    #print(i)\n",
    "    r_theta.append(create_teleport(i/10.0, 0, 0))\n",
    "plt.plot(r_theta)\n",
    "plt.show()"
   ]
  },
  {
   "cell_type": "code",
   "execution_count": 68,
   "metadata": {},
   "outputs": [
    {
     "data": {
      "image/png": "[encoded data removed]",
      "text/plain": [
       "<matplotlib.figure.Figure at 0x7f7fc81cd630>"
      ]
     },
     "metadata": {},
     "output_type": "display_data"
    }
   ],
   "source": [
    "r_phi = []\n",
    "for i in range(1,11):\n",
    "    #print(i)\n",
    "    r_phi.append(create_teleport(0, i/10.0, 0))\n",
    "plt.plot(r_phi)\n",
    "plt.show()"
   ]
  },
  {
   "cell_type": "code",
   "execution_count": 72,
   "metadata": {},
   "outputs": [
    {
     "data": {
      "image/png": "[encoded data removed]",
      "text/plain": [
       "<matplotlib.figure.Figure at 0x7f7fc8358898>"
      ]
     },
     "metadata": {},
     "output_type": "display_data"
    }
   ],
   "source": [
    "r_lam = []\n",
    "for i in range(1,11):\n",
    "    #print(i)\n",
    "    r_lam.append(create_teleport(0, 0, i/10.0))\n",
    "plt.plot(r_lam)\n",
    "plt.show()"
   ]
  }
 ],
 "metadata": {
  "kernelspec": {
   "display_name": "Python [conda env:e6998qc]",
   "language": "python",
   "name": "conda-env-e6998qc-py"
  },
  "language_info": {
   "codemirror_mode": {
    "name": "ipython",
    "version": 3
   },
   "file_extension": ".py",
   "mimetype": "text/x-python",
   "name": "python",
   "nbconvert_exporter": "python",
   "pygments_lexer": "ipython3",
   "version": "3.6.4"
  }
 },
 "nbformat": 4,
 "nbformat_minor": 2
}
